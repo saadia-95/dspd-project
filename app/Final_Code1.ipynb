{
 "cells": [
  {
   "cell_type": "code",
   "execution_count": 1,
   "metadata": {
    "id": "w9V2zBYwQ_58"
   },
   "outputs": [],
   "source": [
    "import numpy as np\n",
    "import pandas as pd\n",
    "import glob, re\n",
    "import numpy as np\n",
    "import pandas as pd\n",
    "from sklearn import *\n",
    "from datetime import datetime\n",
    "from xgboost import XGBRegressor\n",
    "\n",
    "from keras.layers import Embedding, Input, Dense\n",
    "from keras.models import Model\n",
    "import keras\n",
    "import keras.backend as K\n",
    "\n",
    "import matplotlib.pyplot as plt\n",
    "import pickle\n",
    "import joblib"
   ]
  },
  {
   "cell_type": "code",
   "execution_count": 2,
   "metadata": {
    "id": "C8W2-pQLSlBZ"
   },
   "outputs": [],
   "source": [
    "data = {\n",
    "    'Air_visit': pd.read_csv('gcs://bucket_temp_2021/Restaurant Visitor/air_visit_data.csv'),\n",
    "    'Air_store': pd.read_csv('gcs://bucket_temp_2021/Restaurant Visitor/air_store_info.csv'),\n",
    "    'hpg_store': pd.read_csv('gcs://bucket_temp_2021/Restaurant Visitor/hpg_store_info.csv'),\n",
    "    'air_reserve': pd.read_csv('gcs://bucket_temp_2021/Restaurant Visitor/air_reserve.csv'),\n",
    "    'hpg_reserve': pd.read_csv('gcs://bucket_temp_2021/Restaurant Visitor/hpg_reserve.csv'),\n",
    "    'id': pd.read_csv('gcs://bucket_temp_2021/Restaurant Visitor/store_id_relation.csv'),\n",
    "    'sample_file': pd.read_csv('gcs://bucket_temp_2021/Restaurant Visitor/sample_submission.csv'),\n",
    "    'date_info': pd.read_csv('gcs://bucket_temp_2021/Restaurant Visitor/date_info.csv').rename(columns={'calendar_date':'visit_date'})\n",
    "    }"
   ]
  },
  {
   "cell_type": "code",
   "execution_count": 3,
   "metadata": {
    "id": "U9gnh5pIw7sG"
   },
   "outputs": [],
   "source": [
    "#merge hr reserve and store id relation\n",
    "data['hpg_reserve'] = pd.merge(data['hpg_reserve'], data['id'], how='inner', on=['hpg_store_id'])\n",
    "#new array to merge ar and hr\n",
    "for reservations in ['air_reserve','hpg_reserve']:\n",
    "    data[reservations]['visit_datetime'] = pd.to_datetime(data[reservations]['visit_datetime'])#convert to date type\n",
    "    data[reservations]['visit_dow'] = data[reservations]['visit_datetime'].dt.dayofweek #day of week\n",
    "    data[reservations]['visit_datetime'] = data[reservations]['visit_datetime'].dt.date #date\n",
    "    data[reservations]['reserve_datetime'] = pd.to_datetime(data[reservations]['reserve_datetime']) #convert to date type\n",
    "    data[reservations]['reserve_datetime'] = data[reservations]['reserve_datetime'].dt.date #date\n",
    "    data[reservations]['reservations_date_diff'] = data[reservations].apply(lambda r: (r['visit_datetime'] - r['reserve_datetime']).days, axis=1)#diff between two dates\n",
    "    # Exclude same-week reservations - from aharless kernel\n",
    "    data[reservations] = data[reservations][data[reservations]['reservations_date_diff'] > data[reservations]['visit_dow']]\n",
    "      #group diff  datetime ,no of vistors by store id and date (Sum)\n",
    "    Reservation_Sum = data[reservations].groupby(['air_store_id','visit_datetime'], as_index=False)[['reservations_date_diff', 'reserve_visitors']].sum().rename(columns={'visit_datetime':'visit_date', 'reservations_date_diff': 'rs1', 'reserve_visitors':'rv1'})\n",
    "     #group diff  datetime ,no of vistors by store id and date (Sum)\n",
    "    ReservationMean = data[reservations].groupby(['air_store_id','visit_datetime'], as_index=False)[['reservations_date_diff', 'reserve_visitors']].mean().rename(columns={'visit_datetime':'visit_date', 'reservations_date_diff': 'rs2', 'reserve_visitors':'rv2'})\n",
    "    #merge tmop 1 and temp2 where temp 2  and 1 merge reservations\n",
    "    data[reservations] = pd.merge(Reservation_Sum, ReservationMean, how='inner', on=['air_store_id','visit_date'])\n",
    "\n",
    "data['Air_visit']['visit_date'] = pd.to_datetime(data['Air_visit']['visit_date']) #convert to date type\n",
    "data['Air_visit']['dow'] = data['Air_visit']['visit_date'].dt.dayofweek\n",
    "data['Air_visit']['year'] = data['Air_visit']['visit_date'].dt.year\n",
    "data['Air_visit']['month'] = data['Air_visit']['visit_date'].dt.month\n",
    "data['Air_visit']['visit_date'] = data['Air_visit']['visit_date'].dt.date #date\n",
    "\n",
    "data['sample_file']['visit_date'] = data['sample_file']['id'].map(lambda x: str(x).split('_')[2])#separate date from id as id and date merge in id\n",
    "data['sample_file']['air_store_id'] = data['sample_file']['id'].map(lambda x: '_'.join(x.split('_')[:2])) #seperate id\n",
    "data['sample_file']['visit_date'] = pd.to_datetime(data['sample_file']['visit_date'])\n",
    "data['sample_file']['dow'] = data['sample_file']['visit_date'].dt.dayofweek\n",
    "data['sample_file']['year'] = data['sample_file']['visit_date'].dt.year\n",
    "data['sample_file']['month'] = data['sample_file']['visit_date'].dt.month\n",
    "data['sample_file']['visit_date'] = data['sample_file']['visit_date'].dt.date\n"
   ]
  },
  {
   "cell_type": "code",
   "execution_count": 4,
   "metadata": {
    "id": "5Vz5JIVvxNpD"
   },
   "outputs": [
    {
     "name": "stdout",
     "output_type": "stream",
     "text": [
      "<bound method Series.unique of 0       Italian French\n",
      "1       Italian French\n",
      "2              Izakaya\n",
      "3           Dining bar\n",
      "4          Cafe Sweets\n",
      "             ...      \n",
      "5742             Other\n",
      "5743    Italian French\n",
      "5744     Japanese food\n",
      "5745           Izakaya\n",
      "5746      Bar Cocktail\n",
      "Name: air_genre_name, Length: 5747, dtype: object>\n",
      "[6 6 7 ... 8 7 1] 0       air_00a91d42b08b08d9\n",
      "1       air_0164b9927d20bcc3\n",
      "2       air_0241aa3964b7f861\n",
      "3       air_0328696196e46f18\n",
      "4       air_034a3d5b40d5b1b1\n",
      "                ...         \n",
      "5742    air_fea5dc9594450608\n",
      "5743    air_fee8dcf4d619598e\n",
      "5744    air_fef9ccb3ba0da2f7\n",
      "5745    air_ffcc2d5087e1b476\n",
      "5746    air_fff68b929994bfbd\n",
      "Name: air_store_id, Length: 5747, dtype: object\n"
     ]
    }
   ],
   "source": [
    "unique_stores = data['sample_file']['air_store_id'].unique()#unique\n",
    "stores = pd.concat([pd.DataFrame({'air_store_id': unique_stores, 'dow': [i]*len(unique_stores)}) for i in range(7)], axis=0, ignore_index=True).reset_index(drop=True)\n",
    "\n",
    "#sure it can be compressed...\n",
    "#min visitors \n",
    "Visitor_data = data['Air_visit'].groupby(['air_store_id','dow'], as_index=False)['visitors'].min().rename(columns={'visitors':'min_visitors'})\n",
    "stores = pd.merge(stores, Visitor_data, how='left', on=['air_store_id','dow']) #add column min\n",
    "#mean visitors\n",
    "Visitor_data = data['Air_visit'].groupby(['air_store_id','dow'], as_index=False)['visitors'].mean().rename(columns={'visitors':'mean_visitors'})\n",
    "stores = pd.merge(stores, Visitor_data, how='left', on=['air_store_id','dow'])#add column mean\n",
    "#median visitos\n",
    "Visitor_data = data['Air_visit'].groupby(['air_store_id','dow'], as_index=False)['visitors'].median().rename(columns={'visitors':'median_visitors'})\n",
    "stores = pd.merge(stores, Visitor_data, how='left', on=['air_store_id','dow'])\n",
    "#max visitors\n",
    "Visitor_data = data['Air_visit'].groupby(['air_store_id','dow'], as_index=False)['visitors'].max().rename(columns={'visitors':'max_visitors'})\n",
    "stores = pd.merge(stores, Visitor_data, how='left', on=['air_store_id','dow'])\n",
    "#count obseervations+\n",
    "Visitor_data = data['Air_visit'].groupby(['air_store_id','dow'], as_index=False)['visitors'].count().rename(columns={'visitors':'count_observations'})\n",
    "stores = pd.merge(stores, Visitor_data, how='left', on=['air_store_id','dow']) \n",
    "#merge air store file \n",
    "stores = pd.merge(stores, data['Air_store'], how='left', on=['air_store_id']) \n",
    "# NEW FEATURES FROM Georgii Vyshnia\n",
    "#seperate genre italian/french to italian french\n",
    "stores['air_genre_name'] = stores['air_genre_name'].map(lambda x: str(str(x).replace('/',' ')))\n",
    "\n",
    "#separate area hhh--tt ti hht\n",
    "stores['air_area_name'] = stores['air_area_name'].map(lambda x: str(str(x).replace('-',' ')))\n",
    "print(stores['air_genre_name'].unique)\n",
    "lbl = preprocessing.LabelEncoder()#for encoding string as integer\n",
    "for i in range(10):\n",
    "  #split the genre and give it a no\n",
    "    stores['air_genre_name'+str(i)] = lbl.fit_transform(stores['air_genre_name'].map(lambda x: str(str(x).split(' ')[i]) if len(str(x).split(' '))>i else ''))\n",
    "   \n",
    "    stores['air_area_name'+str(i)] = lbl.fit_transform(stores['air_area_name'].map(lambda x: str(str(x).split(' ')[i]) if len(str(x).split(' '))>i else ''))\n",
    "stores['air_genre_name'] = lbl.fit_transform(stores['air_genre_name'])\n",
    "#conveerted to nos\n",
    "print(stores['air_genre_name'].values,stores['air_store_id'])\n",
    "stores['air_area_name'] = lbl.fit_transform(stores['air_area_name'])\n",
    "#date info file \n",
    "data['date_info']['visit_date'] = pd.to_datetime(data['date_info']['visit_date'])\n",
    "data['date_info']['day_of_week'] = lbl.fit_transform(data['date_info']['day_of_week'])# week no\n",
    "data['date_info']['visit_date'] = data['date_info']['visit_date'].dt.date"
   ]
  },
  {
   "cell_type": "code",
   "execution_count": 5,
   "metadata": {
    "id": "Hn0nHdtXLV3e"
   },
   "outputs": [],
   "source": [
    "air_visit_visitors = pd.DataFrame(data['Air_visit'].groupby(\"visit_date\")[\"visitors\"].sum()).reset_index()\n",
    "air_visit_visitors.index +=1"
   ]
  },
  {
   "cell_type": "code",
   "execution_count": 6,
   "metadata": {
    "id": "HiavhOsaK64b"
   },
   "outputs": [
    {
     "data": {
      "image/png": "[encoded data removed]",
      "text/plain": [
       "<Figure size 432x288 with 1 Axes>"
      ]
     },
     "metadata": {
      "needs_background": "light"
     },
     "output_type": "display_data"
    },
    {
     "data": {
      "text/plain": [
       "<Figure size 7200x7200 with 0 Axes>"
      ]
     },
     "metadata": {},
     "output_type": "display_data"
    },
    {
     "data": {
      "text/plain": [
       "<Figure size 432x288 with 0 Axes>"
      ]
     },
     "metadata": {},
     "output_type": "display_data"
    }
   ],
   "source": [
    "plt.plot(air_visit_visitors[\"visit_date\"],air_visit_visitors[\"visitors\"])\n",
    "\n",
    "plt.xlabel(\"visit-date\")\n",
    "plt.ylabel(\"visitors per day\")\n",
    "plt.title(\"All Visitors Per day From 23-April 2016 to 22-April 2017\")\n",
    "plt.figure(figsize=(100,100))\n",
    "plt.figure().subplots_adjust(bottom=0.2)\n",
    "plt.show()\n"
   ]
  },
  {
   "cell_type": "code",
   "execution_count": 7,
   "metadata": {
    "id": "SLNy-kCYMNJ1"
   },
   "outputs": [
    {
     "data": {
      "image/png": "[encoded data removed]",
      "text/plain": [
       "<Figure size 432x288 with 1 Axes>"
      ]
     },
     "metadata": {
      "needs_background": "light"
     },
     "output_type": "display_data"
    }
   ],
   "source": [
    "plt.hist(air_visit_visitors[\"visitors\"])\n",
    "plt.xlabel(\"visitors\")\n",
    "plt.ylabel(\"frequency\")\n",
    "plt.title(\"Histogram of all Visitors\")\n",
    "plt.show()"
   ]
  },
  {
   "cell_type": "code",
   "execution_count": 8,
   "metadata": {
    "id": "UIsVYPuZxbg7"
   },
   "outputs": [
    {
     "name": "stdout",
     "output_type": "stream",
     "text": [
      "0        NaN\n",
      "1        NaN\n",
      "2        NaN\n",
      "3        NaN\n",
      "4        NaN\n",
      "          ..\n",
      "250463   NaN\n",
      "250464   NaN\n",
      "250465   NaN\n",
      "250466   NaN\n",
      "250467   NaN\n",
      "Name: total_reserv_sum, Length: 250468, dtype: float64\n",
      "['dow', 'year', 'month', 'day_of_week', 'holiday_flg', 'min_visitors', 'mean_visitors', 'median_visitors', 'max_visitors', 'count_observations', 'air_genre_name', 'air_area_name', 'latitude', 'longitude', 'air_genre_name0', 'air_area_name0', 'air_genre_name1', 'air_area_name1', 'air_genre_name2', 'air_area_name2', 'air_genre_name3', 'air_area_name3', 'air_genre_name4', 'air_area_name4', 'air_genre_name5', 'air_area_name5', 'air_genre_name6', 'air_area_name6', 'air_genre_name7', 'air_area_name7', 'air_genre_name8', 'air_area_name8', 'air_genre_name9', 'air_area_name9', 'rs1_x', 'rv1_x', 'rs2_x', 'rv2_x', 'rs1_y', 'rv1_y', 'rs2_y', 'rv2_y', 'total_reserv_sum', 'total_reserv_mean', 'total_reserv_dt_diff_mean', 'date_int', 'var_max_lat', 'var_max_long', 'lon_plus_lat', 'air_store_id2']\n",
      "Done\n"
     ]
    }
   ],
   "source": [
    "#merge air_store_data and hol date(date data)\n",
    "train = pd.merge(data['Air_visit'], data['date_info'], how='left', on=['visit_date']) \n",
    "#merge sample submission ad date data\n",
    "test = pd.merge(data['sample_file'], data['date_info'], how='left', on=['visit_date']) \n",
    "#merge train and stores\n",
    "train = pd.merge(train, stores, how='inner', on=['air_store_id','dow']) \n",
    "#merge score\n",
    "test = pd.merge(test, stores, how='left', on=['air_store_id','dow'])\n",
    "#merge reservations\n",
    "for reservations in ['air_reserve','hpg_reserve']:\n",
    "    train = pd.merge(train, data[reservations], how='left', on=['air_store_id','visit_date']) \n",
    "    test = pd.merge(test, data[reservations], how='left', on=['air_store_id','visit_date'])\n",
    "#create id with date\n",
    "train['id'] = train.apply(lambda r: '_'.join([str(r['air_store_id']), str(r['visit_date'])]), axis=1)\n",
    "\n",
    "train['total_reserv_sum'] = train['rv1_x'] + train['rv1_y']\n",
    "print(train['total_reserv_sum'])\n",
    "train['total_reserv_mean'] = (train['rv2_x'] + train['rv2_y']) / 2\n",
    "train['total_reserv_dt_diff_mean'] = (train['rs2_x'] + train['rs2_y']) / 2\n",
    "\n",
    "test['total_reserv_sum'] = test['rv1_x'] + test['rv1_y']\n",
    "test['total_reserv_mean'] = (test['rv2_x'] + test['rv2_y']) / 2\n",
    "test['total_reserv_dt_diff_mean'] = (test['rs2_x'] + test['rs2_y']) / 2\n",
    "\n",
    "train['date_int'] = train['visit_date'].apply(lambda x: x.strftime('%Y%m%d')).astype(int)\n",
    "test['date_int'] = test['visit_date'].apply(lambda x: x.strftime('%Y%m%d')).astype(int)\n",
    "train['var_max_lat'] = train['latitude'].max() - train['latitude']\n",
    "train['var_max_long'] = train['longitude'].max() - train['longitude']\n",
    "test['var_max_lat'] = test['latitude'].max() - test['latitude']\n",
    "test['var_max_long'] = test['longitude'].max() - test['longitude']\n",
    "\n",
    "\n",
    "train['lon_plus_lat'] = train['longitude'] + train['latitude'] \n",
    "test['lon_plus_lat'] = test['longitude'] + test['latitude']\n",
    "\n",
    "lbl = preprocessing.LabelEncoder()\n",
    "train['air_store_id2'] = lbl.fit_transform(train['air_store_id'])\n",
    "test['air_store_id2'] = lbl.transform(test['air_store_id'])\n",
    "\n",
    "col = [c for c in train if c not in [ 'id','air_store_id', 'visit_date','visitors']]\n",
    "print(col)\n",
    "train = train.fillna(-1)\n",
    "test = test.fillna(-1)\n",
    "print(\"Done\")"
   ]
  },
  {
   "cell_type": "code",
   "execution_count": 9,
   "metadata": {
    "id": "F-WPuCRqO99Q"
   },
   "outputs": [
    {
     "data": {
      "image/png": "[encoded data removed]",
      "text/plain": [
       "<Figure size 432x288 with 1 Axes>"
      ]
     },
     "metadata": {
      "needs_background": "light"
     },
     "output_type": "display_data"
    }
   ],
   "source": [
    "\n",
    "plt.bar(train[\"month\"],train[\"median_visitors\"])\n",
    "plt.xlabel(\"Weekday\")\n",
    "plt.ylabel(\"visitors per month\")\n",
    "plt.title(\"All visitors per month\")\n",
    "plt.show()"
   ]
  },
  {
   "cell_type": "code",
   "execution_count": 10,
   "metadata": {
    "id": "8i5DCPqsSE5C"
   },
   "outputs": [],
   "source": [
    "air_visit_visitors[\"visit_date\"]=pd.to_datetime(air_visit_visitors[\"visit_date\"])\n",
    "air_visit_visitors[\"month\"]=air_visit_visitors[\"visit_date\"].dt.month\n",
    "c =pd.DataFrame({\"Month\" : [\"Jan\",\"Feb\",\"Mar\",\"Apr\",\"May\",\"Jun\",\"Jul\",\"Aug\",\"Sep\",\"Oct\",\"Nov\",\"Dec\"],\n",
    "\"month\" : [1,2,3,4,5,6,7,8,9,10,11,12]})\n",
    "c.index+=1\n",
    "air_visit_visitors = air_visit_visitors.merge(c)"
   ]
  },
  {
   "cell_type": "code",
   "execution_count": 11,
   "metadata": {
    "id": "HOqsSAlzVnUz"
   },
   "outputs": [
    {
     "data": {
      "image/png": "[encoded data removed]",
      "text/plain": [
       "<Figure size 432x288 with 1 Axes>"
      ]
     },
     "metadata": {
      "needs_background": "light"
     },
     "output_type": "display_data"
    }
   ],
   "source": [
    "\n",
    "plt.bar(air_visit_visitors[\"Month\"],air_visit_visitors[\"visitors\"])\n",
    "plt.xlabel(\"month\")\n",
    "plt.ylabel(\"visitors per month\")\n",
    "plt.title(\"All Visitors per Month\")\n",
    "plt.show()"
   ]
  },
  {
   "cell_type": "code",
   "execution_count": 12,
   "metadata": {
    "id": "eTa_7r_KmWgZ"
   },
   "outputs": [
    {
     "data": {
      "image/png": "[encoded data removed]",
      "text/plain": [
       "<Figure size 432x288 with 1 Axes>"
      ]
     },
     "metadata": {
      "needs_background": "light"
     },
     "output_type": "display_data"
    },
    {
     "data": {
      "text/plain": [
       "<Figure size 7200x7200 with 0 Axes>"
      ]
     },
     "metadata": {},
     "output_type": "display_data"
    }
   ],
   "source": [
    "plt.plot(train['visit_date'],train['total_reserv_sum'])\n",
    "plt.xlabel(\"Visit-date\")\n",
    "plt.ylabel(\"All visitors\")\n",
    "plt.title(\"Visitors per Day in Air Reservations Data\")\n",
    "plt.figure(figsize=(100,100))\n",
    "\n",
    "plt.show()"
   ]
  },
  {
   "cell_type": "code",
   "execution_count": 13,
   "metadata": {
    "id": "gJn0gvfusD_r",
    "scrolled": true
   },
   "outputs": [
    {
     "data": {
      "text/html": [
       "<div>\n",
       "<style scoped>\n",
       "    .dataframe tbody tr th:only-of-type {\n",
       "        vertical-align: middle;\n",
       "    }\n",
       "\n",
       "    .dataframe tbody tr th {\n",
       "        vertical-align: top;\n",
       "    }\n",
       "\n",
       "    .dataframe thead th {\n",
       "        text-align: right;\n",
       "    }\n",
       "</style>\n",
       "<table border=\"1\" class=\"dataframe\">\n",
       "  <thead>\n",
       "    <tr style=\"text-align: right;\">\n",
       "      <th></th>\n",
       "      <th>air_store_id</th>\n",
       "      <th>visit_date</th>\n",
       "      <th>visitors</th>\n",
       "      <th>dow</th>\n",
       "      <th>year</th>\n",
       "      <th>month</th>\n",
       "      <th>day_of_week</th>\n",
       "      <th>holiday_flg</th>\n",
       "      <th>min_visitors</th>\n",
       "      <th>mean_visitors</th>\n",
       "      <th>...</th>\n",
       "      <th>rv2_y</th>\n",
       "      <th>id</th>\n",
       "      <th>total_reserv_sum</th>\n",
       "      <th>total_reserv_mean</th>\n",
       "      <th>total_reserv_dt_diff_mean</th>\n",
       "      <th>date_int</th>\n",
       "      <th>var_max_lat</th>\n",
       "      <th>var_max_long</th>\n",
       "      <th>lon_plus_lat</th>\n",
       "      <th>air_store_id2</th>\n",
       "    </tr>\n",
       "  </thead>\n",
       "  <tbody>\n",
       "    <tr>\n",
       "      <th>0</th>\n",
       "      <td>air_ba937bf13d40fb24</td>\n",
       "      <td>2016-01-13</td>\n",
       "      <td>25</td>\n",
       "      <td>2</td>\n",
       "      <td>2016</td>\n",
       "      <td>1</td>\n",
       "      <td>6</td>\n",
       "      <td>0</td>\n",
       "      <td>7.0</td>\n",
       "      <td>23.843750</td>\n",
       "      <td>...</td>\n",
       "      <td>-1.0</td>\n",
       "      <td>air_ba937bf13d40fb24_2016-01-13</td>\n",
       "      <td>-1.0</td>\n",
       "      <td>-1.0</td>\n",
       "      <td>-1.0</td>\n",
       "      <td>20160113</td>\n",
       "      <td>8.362564</td>\n",
       "      <td>4.521799</td>\n",
       "      <td>175.409667</td>\n",
       "      <td>599</td>\n",
       "    </tr>\n",
       "    <tr>\n",
       "      <th>1</th>\n",
       "      <td>air_ba937bf13d40fb24</td>\n",
       "      <td>2016-01-20</td>\n",
       "      <td>31</td>\n",
       "      <td>2</td>\n",
       "      <td>2016</td>\n",
       "      <td>1</td>\n",
       "      <td>6</td>\n",
       "      <td>0</td>\n",
       "      <td>7.0</td>\n",
       "      <td>23.843750</td>\n",
       "      <td>...</td>\n",
       "      <td>-1.0</td>\n",
       "      <td>air_ba937bf13d40fb24_2016-01-20</td>\n",
       "      <td>-1.0</td>\n",
       "      <td>-1.0</td>\n",
       "      <td>-1.0</td>\n",
       "      <td>20160120</td>\n",
       "      <td>8.362564</td>\n",
       "      <td>4.521799</td>\n",
       "      <td>175.409667</td>\n",
       "      <td>599</td>\n",
       "    </tr>\n",
       "    <tr>\n",
       "      <th>2</th>\n",
       "      <td>air_ba937bf13d40fb24</td>\n",
       "      <td>2016-01-27</td>\n",
       "      <td>24</td>\n",
       "      <td>2</td>\n",
       "      <td>2016</td>\n",
       "      <td>1</td>\n",
       "      <td>6</td>\n",
       "      <td>0</td>\n",
       "      <td>7.0</td>\n",
       "      <td>23.843750</td>\n",
       "      <td>...</td>\n",
       "      <td>-1.0</td>\n",
       "      <td>air_ba937bf13d40fb24_2016-01-27</td>\n",
       "      <td>-1.0</td>\n",
       "      <td>-1.0</td>\n",
       "      <td>-1.0</td>\n",
       "      <td>20160127</td>\n",
       "      <td>8.362564</td>\n",
       "      <td>4.521799</td>\n",
       "      <td>175.409667</td>\n",
       "      <td>599</td>\n",
       "    </tr>\n",
       "    <tr>\n",
       "      <th>3</th>\n",
       "      <td>air_ba937bf13d40fb24</td>\n",
       "      <td>2016-02-03</td>\n",
       "      <td>18</td>\n",
       "      <td>2</td>\n",
       "      <td>2016</td>\n",
       "      <td>2</td>\n",
       "      <td>6</td>\n",
       "      <td>0</td>\n",
       "      <td>7.0</td>\n",
       "      <td>23.843750</td>\n",
       "      <td>...</td>\n",
       "      <td>-1.0</td>\n",
       "      <td>air_ba937bf13d40fb24_2016-02-03</td>\n",
       "      <td>-1.0</td>\n",
       "      <td>-1.0</td>\n",
       "      <td>-1.0</td>\n",
       "      <td>20160203</td>\n",
       "      <td>8.362564</td>\n",
       "      <td>4.521799</td>\n",
       "      <td>175.409667</td>\n",
       "      <td>599</td>\n",
       "    </tr>\n",
       "    <tr>\n",
       "      <th>4</th>\n",
       "      <td>air_ba937bf13d40fb24</td>\n",
       "      <td>2016-02-10</td>\n",
       "      <td>32</td>\n",
       "      <td>2</td>\n",
       "      <td>2016</td>\n",
       "      <td>2</td>\n",
       "      <td>6</td>\n",
       "      <td>0</td>\n",
       "      <td>7.0</td>\n",
       "      <td>23.843750</td>\n",
       "      <td>...</td>\n",
       "      <td>-1.0</td>\n",
       "      <td>air_ba937bf13d40fb24_2016-02-10</td>\n",
       "      <td>-1.0</td>\n",
       "      <td>-1.0</td>\n",
       "      <td>-1.0</td>\n",
       "      <td>20160210</td>\n",
       "      <td>8.362564</td>\n",
       "      <td>4.521799</td>\n",
       "      <td>175.409667</td>\n",
       "      <td>599</td>\n",
       "    </tr>\n",
       "    <tr>\n",
       "      <th>...</th>\n",
       "      <td>...</td>\n",
       "      <td>...</td>\n",
       "      <td>...</td>\n",
       "      <td>...</td>\n",
       "      <td>...</td>\n",
       "      <td>...</td>\n",
       "      <td>...</td>\n",
       "      <td>...</td>\n",
       "      <td>...</td>\n",
       "      <td>...</td>\n",
       "      <td>...</td>\n",
       "      <td>...</td>\n",
       "      <td>...</td>\n",
       "      <td>...</td>\n",
       "      <td>...</td>\n",
       "      <td>...</td>\n",
       "      <td>...</td>\n",
       "      <td>...</td>\n",
       "      <td>...</td>\n",
       "      <td>...</td>\n",
       "      <td>...</td>\n",
       "    </tr>\n",
       "    <tr>\n",
       "      <th>250463</th>\n",
       "      <td>air_24e8414b9b07decb</td>\n",
       "      <td>2017-04-13</td>\n",
       "      <td>6</td>\n",
       "      <td>3</td>\n",
       "      <td>2017</td>\n",
       "      <td>4</td>\n",
       "      <td>4</td>\n",
       "      <td>0</td>\n",
       "      <td>2.0</td>\n",
       "      <td>5.394737</td>\n",
       "      <td>...</td>\n",
       "      <td>-1.0</td>\n",
       "      <td>air_24e8414b9b07decb_2017-04-13</td>\n",
       "      <td>-1.0</td>\n",
       "      <td>-1.0</td>\n",
       "      <td>-1.0</td>\n",
       "      <td>20170413</td>\n",
       "      <td>8.367414</td>\n",
       "      <td>4.562362</td>\n",
       "      <td>175.364254</td>\n",
       "      <td>96</td>\n",
       "    </tr>\n",
       "    <tr>\n",
       "      <th>250464</th>\n",
       "      <td>air_24e8414b9b07decb</td>\n",
       "      <td>2017-04-20</td>\n",
       "      <td>7</td>\n",
       "      <td>3</td>\n",
       "      <td>2017</td>\n",
       "      <td>4</td>\n",
       "      <td>4</td>\n",
       "      <td>0</td>\n",
       "      <td>2.0</td>\n",
       "      <td>5.394737</td>\n",
       "      <td>...</td>\n",
       "      <td>-1.0</td>\n",
       "      <td>air_24e8414b9b07decb_2017-04-20</td>\n",
       "      <td>-1.0</td>\n",
       "      <td>-1.0</td>\n",
       "      <td>-1.0</td>\n",
       "      <td>20170420</td>\n",
       "      <td>8.367414</td>\n",
       "      <td>4.562362</td>\n",
       "      <td>175.364254</td>\n",
       "      <td>96</td>\n",
       "    </tr>\n",
       "    <tr>\n",
       "      <th>250465</th>\n",
       "      <td>air_24e8414b9b07decb</td>\n",
       "      <td>2016-07-17</td>\n",
       "      <td>1</td>\n",
       "      <td>6</td>\n",
       "      <td>2016</td>\n",
       "      <td>7</td>\n",
       "      <td>3</td>\n",
       "      <td>0</td>\n",
       "      <td>1.0</td>\n",
       "      <td>3.666667</td>\n",
       "      <td>...</td>\n",
       "      <td>-1.0</td>\n",
       "      <td>air_24e8414b9b07decb_2016-07-17</td>\n",
       "      <td>-1.0</td>\n",
       "      <td>-1.0</td>\n",
       "      <td>-1.0</td>\n",
       "      <td>20160717</td>\n",
       "      <td>8.367414</td>\n",
       "      <td>4.562362</td>\n",
       "      <td>175.364254</td>\n",
       "      <td>96</td>\n",
       "    </tr>\n",
       "    <tr>\n",
       "      <th>250466</th>\n",
       "      <td>air_24e8414b9b07decb</td>\n",
       "      <td>2016-12-25</td>\n",
       "      <td>6</td>\n",
       "      <td>6</td>\n",
       "      <td>2016</td>\n",
       "      <td>12</td>\n",
       "      <td>3</td>\n",
       "      <td>0</td>\n",
       "      <td>1.0</td>\n",
       "      <td>3.666667</td>\n",
       "      <td>...</td>\n",
       "      <td>-1.0</td>\n",
       "      <td>air_24e8414b9b07decb_2016-12-25</td>\n",
       "      <td>-1.0</td>\n",
       "      <td>-1.0</td>\n",
       "      <td>-1.0</td>\n",
       "      <td>20161225</td>\n",
       "      <td>8.367414</td>\n",
       "      <td>4.562362</td>\n",
       "      <td>175.364254</td>\n",
       "      <td>96</td>\n",
       "    </tr>\n",
       "    <tr>\n",
       "      <th>250467</th>\n",
       "      <td>air_24e8414b9b07decb</td>\n",
       "      <td>2017-01-08</td>\n",
       "      <td>4</td>\n",
       "      <td>6</td>\n",
       "      <td>2017</td>\n",
       "      <td>1</td>\n",
       "      <td>3</td>\n",
       "      <td>0</td>\n",
       "      <td>1.0</td>\n",
       "      <td>3.666667</td>\n",
       "      <td>...</td>\n",
       "      <td>-1.0</td>\n",
       "      <td>air_24e8414b9b07decb_2017-01-08</td>\n",
       "      <td>-1.0</td>\n",
       "      <td>-1.0</td>\n",
       "      <td>-1.0</td>\n",
       "      <td>20170108</td>\n",
       "      <td>8.367414</td>\n",
       "      <td>4.562362</td>\n",
       "      <td>175.364254</td>\n",
       "      <td>96</td>\n",
       "    </tr>\n",
       "  </tbody>\n",
       "</table>\n",
       "<p>250468 rows × 54 columns</p>\n",
       "</div>"
      ],
      "text/plain": [
       "                air_store_id  visit_date  visitors  dow  year  month  \\\n",
       "0       air_ba937bf13d40fb24  2016-01-13        25    2  2016      1   \n",
       "1       air_ba937bf13d40fb24  2016-01-20        31    2  2016      1   \n",
       "2       air_ba937bf13d40fb24  2016-01-27        24    2  2016      1   \n",
       "3       air_ba937bf13d40fb24  2016-02-03        18    2  2016      2   \n",
       "4       air_ba937bf13d40fb24  2016-02-10        32    2  2016      2   \n",
       "...                      ...         ...       ...  ...   ...    ...   \n",
       "250463  air_24e8414b9b07decb  2017-04-13         6    3  2017      4   \n",
       "250464  air_24e8414b9b07decb  2017-04-20         7    3  2017      4   \n",
       "250465  air_24e8414b9b07decb  2016-07-17         1    6  2016      7   \n",
       "250466  air_24e8414b9b07decb  2016-12-25         6    6  2016     12   \n",
       "250467  air_24e8414b9b07decb  2017-01-08         4    6  2017      1   \n",
       "\n",
       "        day_of_week  holiday_flg  min_visitors  mean_visitors  ...  rv2_y  \\\n",
       "0                 6            0           7.0      23.843750  ...   -1.0   \n",
       "1                 6            0           7.0      23.843750  ...   -1.0   \n",
       "2                 6            0           7.0      23.843750  ...   -1.0   \n",
       "3                 6            0           7.0      23.843750  ...   -1.0   \n",
       "4                 6            0           7.0      23.843750  ...   -1.0   \n",
       "...             ...          ...           ...            ...  ...    ...   \n",
       "250463            4            0           2.0       5.394737  ...   -1.0   \n",
       "250464            4            0           2.0       5.394737  ...   -1.0   \n",
       "250465            3            0           1.0       3.666667  ...   -1.0   \n",
       "250466            3            0           1.0       3.666667  ...   -1.0   \n",
       "250467            3            0           1.0       3.666667  ...   -1.0   \n",
       "\n",
       "                                     id  total_reserv_sum  total_reserv_mean  \\\n",
       "0       air_ba937bf13d40fb24_2016-01-13              -1.0               -1.0   \n",
       "1       air_ba937bf13d40fb24_2016-01-20              -1.0               -1.0   \n",
       "2       air_ba937bf13d40fb24_2016-01-27              -1.0               -1.0   \n",
       "3       air_ba937bf13d40fb24_2016-02-03              -1.0               -1.0   \n",
       "4       air_ba937bf13d40fb24_2016-02-10              -1.0               -1.0   \n",
       "...                                 ...               ...                ...   \n",
       "250463  air_24e8414b9b07decb_2017-04-13              -1.0               -1.0   \n",
       "250464  air_24e8414b9b07decb_2017-04-20              -1.0               -1.0   \n",
       "250465  air_24e8414b9b07decb_2016-07-17              -1.0               -1.0   \n",
       "250466  air_24e8414b9b07decb_2016-12-25              -1.0               -1.0   \n",
       "250467  air_24e8414b9b07decb_2017-01-08              -1.0               -1.0   \n",
       "\n",
       "        total_reserv_dt_diff_mean  date_int  var_max_lat  var_max_long  \\\n",
       "0                            -1.0  20160113     8.362564      4.521799   \n",
       "1                            -1.0  20160120     8.362564      4.521799   \n",
       "2                            -1.0  20160127     8.362564      4.521799   \n",
       "3                            -1.0  20160203     8.362564      4.521799   \n",
       "4                            -1.0  20160210     8.362564      4.521799   \n",
       "...                           ...       ...          ...           ...   \n",
       "250463                       -1.0  20170413     8.367414      4.562362   \n",
       "250464                       -1.0  20170420     8.367414      4.562362   \n",
       "250465                       -1.0  20160717     8.367414      4.562362   \n",
       "250466                       -1.0  20161225     8.367414      4.562362   \n",
       "250467                       -1.0  20170108     8.367414      4.562362   \n",
       "\n",
       "        lon_plus_lat  air_store_id2  \n",
       "0         175.409667            599  \n",
       "1         175.409667            599  \n",
       "2         175.409667            599  \n",
       "3         175.409667            599  \n",
       "4         175.409667            599  \n",
       "...              ...            ...  \n",
       "250463    175.364254             96  \n",
       "250464    175.364254             96  \n",
       "250465    175.364254             96  \n",
       "250466    175.364254             96  \n",
       "250467    175.364254             96  \n",
       "\n",
       "[250468 rows x 54 columns]"
      ]
     },
     "execution_count": 13,
     "metadata": {},
     "output_type": "execute_result"
    }
   ],
   "source": [
    "train"
   ]
  },
  {
   "cell_type": "code",
   "execution_count": 14,
   "metadata": {
    "id": "38xaKIAfuc1u"
   },
   "outputs": [
    {
     "data": {
      "image/png": "[encoded data removed]",
      "text/plain": [
       "<Figure size 432x288 with 1 Axes>"
      ]
     },
     "metadata": {
      "needs_background": "light"
     },
     "output_type": "display_data"
    },
    {
     "data": {
      "text/plain": [
       "<Figure size 7200x7200 with 0 Axes>"
      ]
     },
     "metadata": {},
     "output_type": "display_data"
    }
   ],
   "source": [
    "\n",
    "data_2 = data[reservations][[\"visit_date\",\"rv2\"]]\n",
    "\n",
    "plt.plot(data_2[\"visit_date\"],data_2[\"rv2\"])\n",
    "plt.xlabel(\"Visit-date\")\n",
    "plt.ylabel(\"All visitors\")\n",
    "plt.title(\"Visitors per Day in HPG Reservations Data\")\n",
    "plt.figure(figsize=(100,100))\n",
    "\n",
    "plt.show()"
   ]
  },
  {
   "cell_type": "code",
   "execution_count": 15,
   "metadata": {
    "id": "hnCNQjnWvQWJ"
   },
   "outputs": [
    {
     "data": {
      "text/html": [
       "<div>\n",
       "<style scoped>\n",
       "    .dataframe tbody tr th:only-of-type {\n",
       "        vertical-align: middle;\n",
       "    }\n",
       "\n",
       "    .dataframe tbody tr th {\n",
       "        vertical-align: top;\n",
       "    }\n",
       "\n",
       "    .dataframe thead th {\n",
       "        text-align: right;\n",
       "    }\n",
       "</style>\n",
       "<table border=\"1\" class=\"dataframe\">\n",
       "  <thead>\n",
       "    <tr style=\"text-align: right;\">\n",
       "      <th></th>\n",
       "      <th>air_store_id</th>\n",
       "      <th>visit_date</th>\n",
       "      <th>rs1</th>\n",
       "      <th>rv1</th>\n",
       "      <th>rs2</th>\n",
       "      <th>rv2</th>\n",
       "    </tr>\n",
       "  </thead>\n",
       "  <tbody>\n",
       "    <tr>\n",
       "      <th>0</th>\n",
       "      <td>air_00a91d42b08b08d9</td>\n",
       "      <td>2016-01-15</td>\n",
       "      <td>6</td>\n",
       "      <td>4</td>\n",
       "      <td>6.0</td>\n",
       "      <td>4.0</td>\n",
       "    </tr>\n",
       "    <tr>\n",
       "      <th>1</th>\n",
       "      <td>air_00a91d42b08b08d9</td>\n",
       "      <td>2016-01-29</td>\n",
       "      <td>6</td>\n",
       "      <td>5</td>\n",
       "      <td>6.0</td>\n",
       "      <td>5.0</td>\n",
       "    </tr>\n",
       "    <tr>\n",
       "      <th>2</th>\n",
       "      <td>air_00a91d42b08b08d9</td>\n",
       "      <td>2016-02-05</td>\n",
       "      <td>16</td>\n",
       "      <td>2</td>\n",
       "      <td>16.0</td>\n",
       "      <td>2.0</td>\n",
       "    </tr>\n",
       "    <tr>\n",
       "      <th>3</th>\n",
       "      <td>air_00a91d42b08b08d9</td>\n",
       "      <td>2016-03-08</td>\n",
       "      <td>2</td>\n",
       "      <td>3</td>\n",
       "      <td>2.0</td>\n",
       "      <td>3.0</td>\n",
       "    </tr>\n",
       "    <tr>\n",
       "      <th>4</th>\n",
       "      <td>air_00a91d42b08b08d9</td>\n",
       "      <td>2016-04-04</td>\n",
       "      <td>4</td>\n",
       "      <td>1</td>\n",
       "      <td>4.0</td>\n",
       "      <td>1.0</td>\n",
       "    </tr>\n",
       "    <tr>\n",
       "      <th>...</th>\n",
       "      <td>...</td>\n",
       "      <td>...</td>\n",
       "      <td>...</td>\n",
       "      <td>...</td>\n",
       "      <td>...</td>\n",
       "      <td>...</td>\n",
       "    </tr>\n",
       "    <tr>\n",
       "      <th>10615</th>\n",
       "      <td>air_fea5dc9594450608</td>\n",
       "      <td>2017-04-15</td>\n",
       "      <td>32</td>\n",
       "      <td>4</td>\n",
       "      <td>16.0</td>\n",
       "      <td>2.0</td>\n",
       "    </tr>\n",
       "    <tr>\n",
       "      <th>10616</th>\n",
       "      <td>air_fea5dc9594450608</td>\n",
       "      <td>2017-04-18</td>\n",
       "      <td>6</td>\n",
       "      <td>2</td>\n",
       "      <td>6.0</td>\n",
       "      <td>2.0</td>\n",
       "    </tr>\n",
       "    <tr>\n",
       "      <th>10617</th>\n",
       "      <td>air_fea5dc9594450608</td>\n",
       "      <td>2017-04-25</td>\n",
       "      <td>9</td>\n",
       "      <td>2</td>\n",
       "      <td>9.0</td>\n",
       "      <td>2.0</td>\n",
       "    </tr>\n",
       "    <tr>\n",
       "      <th>10618</th>\n",
       "      <td>air_fea5dc9594450608</td>\n",
       "      <td>2017-04-28</td>\n",
       "      <td>29</td>\n",
       "      <td>3</td>\n",
       "      <td>29.0</td>\n",
       "      <td>3.0</td>\n",
       "    </tr>\n",
       "    <tr>\n",
       "      <th>10619</th>\n",
       "      <td>air_fea5dc9594450608</td>\n",
       "      <td>2017-05-20</td>\n",
       "      <td>34</td>\n",
       "      <td>6</td>\n",
       "      <td>34.0</td>\n",
       "      <td>6.0</td>\n",
       "    </tr>\n",
       "  </tbody>\n",
       "</table>\n",
       "<p>10620 rows × 6 columns</p>\n",
       "</div>"
      ],
      "text/plain": [
       "               air_store_id  visit_date  rs1  rv1   rs2  rv2\n",
       "0      air_00a91d42b08b08d9  2016-01-15    6    4   6.0  4.0\n",
       "1      air_00a91d42b08b08d9  2016-01-29    6    5   6.0  5.0\n",
       "2      air_00a91d42b08b08d9  2016-02-05   16    2  16.0  2.0\n",
       "3      air_00a91d42b08b08d9  2016-03-08    2    3   2.0  3.0\n",
       "4      air_00a91d42b08b08d9  2016-04-04    4    1   4.0  1.0\n",
       "...                     ...         ...  ...  ...   ...  ...\n",
       "10615  air_fea5dc9594450608  2017-04-15   32    4  16.0  2.0\n",
       "10616  air_fea5dc9594450608  2017-04-18    6    2   6.0  2.0\n",
       "10617  air_fea5dc9594450608  2017-04-25    9    2   9.0  2.0\n",
       "10618  air_fea5dc9594450608  2017-04-28   29    3  29.0  3.0\n",
       "10619  air_fea5dc9594450608  2017-05-20   34    6  34.0  6.0\n",
       "\n",
       "[10620 rows x 6 columns]"
      ]
     },
     "execution_count": 15,
     "metadata": {},
     "output_type": "execute_result"
    }
   ],
   "source": [
    "data['hpg_reserve']"
   ]
  },
  {
   "cell_type": "code",
   "execution_count": 16,
   "metadata": {
    "id": "-wh1W7Ncxl_p"
   },
   "outputs": [],
   "source": [
    "def RMSLE(y, pred):\n",
    "    return metrics.mean_squared_error(y, pred)**0.5"
   ]
  },
  {
   "cell_type": "code",
   "execution_count": 17,
   "metadata": {
    "id": "x2UA4D6Kxt3V"
   },
   "outputs": [
    {
     "name": "stdout",
     "output_type": "stream",
     "text": [
      "Start of Data Load\n"
     ]
    }
   ],
   "source": [
    "print(\"Start of Data Load\")\n",
    "numeric_col = ['holiday_flg','min_visitors','mean_visitors','median_visitors','max_visitors','count_observations',\n",
    "'rs1_x','rv1_x','rs2_x','rv2_x','rs1_y','rv1_y','rs2_y','rv2_y','total_reserv_sum','total_reserv_mean',\n",
    "'total_reserv_dt_diff_mean','date_int','var_max_lat','var_max_long','lon_plus_lat']\n",
    "\n",
    "data_col = numeric_col + ['dow', 'year', 'month', 'air_store_id2', 'air_area_name', 'air_genre_name',\n",
    "'air_area_name0', 'air_area_name1', 'air_area_name2', 'air_area_name3', 'air_area_name4',\n",
    "'air_area_name5', 'air_area_name6', 'air_genre_name0', 'air_genre_name1',\n",
    "'air_genre_name2', 'air_genre_name3', 'air_genre_name4']\n"
   ]
  },
  {
   "cell_type": "code",
   "execution_count": 18,
   "metadata": {
    "id": "q62W5MXf2Vm5"
   },
   "outputs": [
    {
     "name": "stdout",
     "output_type": "stream",
     "text": [
      "                          id  visitors\n",
      "0       air_ba937bf13d40fb24         4\n",
      "1       air_ba937bf13d40fb24         4\n",
      "2       air_ba937bf13d40fb24         4\n",
      "3       air_ba937bf13d40fb24         4\n",
      "4       air_ba937bf13d40fb24         4\n",
      "...                      ...       ...\n",
      "250463  air_24e8414b9b07decb        11\n",
      "250464  air_24e8414b9b07decb        11\n",
      "250465  air_24e8414b9b07decb        11\n",
      "250466  air_24e8414b9b07decb        11\n",
      "250467  air_24e8414b9b07decb        11\n",
      "\n",
      "[250468 rows x 2 columns]\n"
     ]
    }
   ],
   "source": [
    "output_list2 = []\n",
    "\n",
    "output_list2.append(pd.DataFrame({'id': train['air_store_id'], 'visitors': train['air_genre_name']}))\n",
    "output1 = pd.concat(output_list2)\n",
    "print(output1)\n",
    "#from google.colab import files\n",
    "#output1.to_csv('output1.csv', index=False)\n",
    "#files.download('output1.csv')\n",
    "#print(\"Your submission was successfully saved!\")"
   ]
  },
  {
   "cell_type": "code",
   "execution_count": 19,
   "metadata": {
    "id": "--ouXvjixzlP"
   },
   "outputs": [
    {
     "name": "stdout",
     "output_type": "stream",
     "text": [
      "                air_store_id  visit_date  visitors  dow  year  month  \\\n",
      "0       air_ba937bf13d40fb24  2016-01-13        25    2  2016      1   \n",
      "1       air_ba937bf13d40fb24  2016-01-20        31    2  2016      1   \n",
      "2       air_ba937bf13d40fb24  2016-01-27        24    2  2016      1   \n",
      "3       air_ba937bf13d40fb24  2016-02-03        18    2  2016      2   \n",
      "4       air_ba937bf13d40fb24  2016-02-10        32    2  2016      2   \n",
      "...                      ...         ...       ...  ...   ...    ...   \n",
      "250463  air_24e8414b9b07decb  2017-04-13         6    3  2017      4   \n",
      "250464  air_24e8414b9b07decb  2017-04-20         7    3  2017      4   \n",
      "250465  air_24e8414b9b07decb  2016-07-17         1    6  2016      7   \n",
      "250466  air_24e8414b9b07decb  2016-12-25         6    6  2016     12   \n",
      "250467  air_24e8414b9b07decb  2017-01-08         4    6  2017      1   \n",
      "\n",
      "        day_of_week  holiday_flg  min_visitors  mean_visitors  ...  rv2_y  \\\n",
      "0                 6            0           7.0      23.843750  ...   -1.0   \n",
      "1                 6            0           7.0      23.843750  ...   -1.0   \n",
      "2                 6            0           7.0      23.843750  ...   -1.0   \n",
      "3                 6            0           7.0      23.843750  ...   -1.0   \n",
      "4                 6            0           7.0      23.843750  ...   -1.0   \n",
      "...             ...          ...           ...            ...  ...    ...   \n",
      "250463            4            0           2.0       5.394737  ...   -1.0   \n",
      "250464            4            0           2.0       5.394737  ...   -1.0   \n",
      "250465            3            0           1.0       3.666667  ...   -1.0   \n",
      "250466            3            0           1.0       3.666667  ...   -1.0   \n",
      "250467            3            0           1.0       3.666667  ...   -1.0   \n",
      "\n",
      "                                     id  total_reserv_sum  total_reserv_mean  \\\n",
      "0       air_ba937bf13d40fb24_2016-01-13              -1.0               -1.0   \n",
      "1       air_ba937bf13d40fb24_2016-01-20              -1.0               -1.0   \n",
      "2       air_ba937bf13d40fb24_2016-01-27              -1.0               -1.0   \n",
      "3       air_ba937bf13d40fb24_2016-02-03              -1.0               -1.0   \n",
      "4       air_ba937bf13d40fb24_2016-02-10              -1.0               -1.0   \n",
      "...                                 ...               ...                ...   \n",
      "250463  air_24e8414b9b07decb_2017-04-13              -1.0               -1.0   \n",
      "250464  air_24e8414b9b07decb_2017-04-20              -1.0               -1.0   \n",
      "250465  air_24e8414b9b07decb_2016-07-17              -1.0               -1.0   \n",
      "250466  air_24e8414b9b07decb_2016-12-25              -1.0               -1.0   \n",
      "250467  air_24e8414b9b07decb_2017-01-08              -1.0               -1.0   \n",
      "\n",
      "        total_reserv_dt_diff_mean  date_int  var_max_lat  var_max_long  \\\n",
      "0                            -1.0  20160113     8.362564      4.521799   \n",
      "1                            -1.0  20160120     8.362564      4.521799   \n",
      "2                            -1.0  20160127     8.362564      4.521799   \n",
      "3                            -1.0  20160203     8.362564      4.521799   \n",
      "4                            -1.0  20160210     8.362564      4.521799   \n",
      "...                           ...       ...          ...           ...   \n",
      "250463                       -1.0  20170413     8.367414      4.562362   \n",
      "250464                       -1.0  20170420     8.367414      4.562362   \n",
      "250465                       -1.0  20160717     8.367414      4.562362   \n",
      "250466                       -1.0  20161225     8.367414      4.562362   \n",
      "250467                       -1.0  20170108     8.367414      4.562362   \n",
      "\n",
      "        lon_plus_lat  air_store_id2  \n",
      "0         175.409667            599  \n",
      "1         175.409667            599  \n",
      "2         175.409667            599  \n",
      "3         175.409667            599  \n",
      "4         175.409667            599  \n",
      "...              ...            ...  \n",
      "250463    175.364254             96  \n",
      "250464    175.364254             96  \n",
      "250465    175.364254             96  \n",
      "250466    175.364254             96  \n",
      "250467    175.364254             96  \n",
      "\n",
      "[250468 rows x 54 columns]\n"
     ]
    }
   ],
   "source": [
    "X = train.copy()\n",
    "print(X)"
   ]
  },
  {
   "cell_type": "code",
   "execution_count": 20,
   "metadata": {
    "id": "J7U9pY0w_Uts"
   },
   "outputs": [],
   "source": [
    "air_store_genreWise1 = pd.DataFrame(data['Air_store'].groupby(\"air_genre_name\")[\"air_store_id\"].count()).reset_index()\n",
    "air_store_genreWise1.index+=1\n",
    "air_store_genreWise1 = air_store_genreWise1.rename(columns={\"air_store_id\":\"noOfstore\"})\n",
    "air_store_genreWise1= air_store_genreWise1.sort_values(by=\"noOfstore\",ascending=False)"
   ]
  },
  {
   "cell_type": "code",
   "execution_count": 21,
   "metadata": {
    "id": "bz-6GkIQ_mvX"
   },
   "outputs": [
    {
     "data": {
      "image/png": "[encoded data removed]",
      "text/plain": [
       "<Figure size 432x288 with 1 Axes>"
      ]
     },
     "metadata": {
      "needs_background": "light"
     },
     "output_type": "display_data"
    }
   ],
   "source": [
    "fig, agen = plt.subplots()\n",
    "error = np.random.rand(len(air_store_genreWise1[\"air_genre_name\"]))\n",
    "y_pos = np.arange(len(air_store_genreWise1[\"air_genre_name\"]))\n",
    "agen.barh(y_pos, air_store_genreWise1[\"noOfstore\"], xerr=error, align='center',\n",
    "        color='green', ecolor='black')\n",
    "agen.set_yticks(y_pos)\n",
    "agen.set_yticklabels(air_store_genreWise1[\"air_genre_name\"])\n",
    "agen.invert_yaxis()  # labels read top-to-bottom\n",
    "agen.set_xlabel('num of Restaurants')\n",
    "agen.set_title('Restaurants by Genre')\n",
    "\n",
    "plt.show()"
   ]
  },
  {
   "cell_type": "code",
   "execution_count": 22,
   "metadata": {
    "id": "U12GjNLJyAfu"
   },
   "outputs": [
    {
     "name": "stdout",
     "output_type": "stream",
     "text": [
      "       holiday_flg  min_visitors  mean_visitors  median_visitors  \\\n",
      "0                0           2.0       2.000000              2.0   \n",
      "1                0           1.0      22.457143             19.0   \n",
      "2                0           1.0      24.350000             24.5   \n",
      "3                0          15.0      28.125000             28.0   \n",
      "4                0          15.0      29.868421             30.0   \n",
      "...            ...           ...            ...              ...   \n",
      "32014            0           2.0       7.439024              7.0   \n",
      "32015            0           1.0       4.000000              3.5   \n",
      "32016            0           1.0       4.200000              4.0   \n",
      "32017            0           1.0       4.526316              4.0   \n",
      "32018            0           1.0       4.634146              4.0   \n",
      "\n",
      "       max_visitors  count_observations  rs1_x  rv1_x  rs2_x  rv2_x  ...  \\\n",
      "0               2.0                 1.0   -1.0   -1.0   -1.0   -1.0  ...   \n",
      "1              47.0                35.0   -1.0   -1.0   -1.0   -1.0  ...   \n",
      "2              43.0                40.0   -1.0   -1.0   -1.0   -1.0  ...   \n",
      "3              52.0                40.0   -1.0   -1.0   -1.0   -1.0  ...   \n",
      "4              47.0                38.0   -1.0   -1.0   -1.0   -1.0  ...   \n",
      "...             ...                 ...    ...    ...    ...    ...  ...   \n",
      "32014          18.0                41.0   -1.0   -1.0   -1.0   -1.0  ...   \n",
      "32015          10.0                30.0   -1.0   -1.0   -1.0   -1.0  ...   \n",
      "32016          14.0                35.0   -1.0   -1.0   -1.0   -1.0  ...   \n",
      "32017          11.0                38.0   -1.0   -1.0   -1.0   -1.0  ...   \n",
      "32018          12.0                41.0   -1.0   -1.0   -1.0   -1.0  ...   \n",
      "\n",
      "       air_area_name2  air_area_name3  air_area_name4  air_area_name5  \\\n",
      "0                   3               6              48               0   \n",
      "1                   3               6              48               0   \n",
      "2                   3               6              48               0   \n",
      "3                   3               6              48               0   \n",
      "4                   3               6              48               0   \n",
      "...               ...             ...             ...             ...   \n",
      "32014              29               6              66               0   \n",
      "32015              29               6              66               0   \n",
      "32016              29               6              66               0   \n",
      "32017              29               6              66               0   \n",
      "32018              29               6              66               0   \n",
      "\n",
      "       air_area_name6  air_genre_name0  air_genre_name1  air_genre_name2  \\\n",
      "0                   0                6                2                0   \n",
      "1                   0                6                2                0   \n",
      "2                   0                6                2                0   \n",
      "3                   0                6                2                0   \n",
      "4                   0                6                2                0   \n",
      "...               ...              ...              ...              ...   \n",
      "32014               0                1                1                0   \n",
      "32015               0                1                1                0   \n",
      "32016               0                1                1                0   \n",
      "32017               0                1                1                0   \n",
      "32018               0                1                1                0   \n",
      "\n",
      "       air_genre_name3  air_genre_name4  \n",
      "0                    0                0  \n",
      "1                    0                0  \n",
      "2                    0                0  \n",
      "3                    0                0  \n",
      "4                    0                0  \n",
      "...                ...              ...  \n",
      "32014                0                0  \n",
      "32015                0                0  \n",
      "32016                0                0  \n",
      "32017                0                0  \n",
      "32018                0                0  \n",
      "\n",
      "[32019 rows x 39 columns]\n"
     ]
    }
   ],
   "source": [
    "X_test = test[data_col].copy()\n",
    "print(X_test)"
   ]
  },
  {
   "cell_type": "code",
   "execution_count": 23,
   "metadata": {
    "id": "xWXgkGtUyqLs"
   },
   "outputs": [
    {
     "data": {
      "text/plain": [
       "array([ 4,  4,  4, ..., 11, 11, 11])"
      ]
     },
     "execution_count": 23,
     "metadata": {},
     "output_type": "execute_result"
    }
   ],
   "source": [
    "\n",
    "train['air_genre_name'].values"
   ]
  },
  {
   "cell_type": "code",
   "execution_count": 24,
   "metadata": {
    "id": "LMTAJ2whywQ6"
   },
   "outputs": [],
   "source": [
    "X_train = list(X[data_col].T.values)\n"
   ]
  },
  {
   "cell_type": "code",
   "execution_count": 25,
   "metadata": {
    "id": "3BfG80xWzs1n"
   },
   "outputs": [
    {
     "name": "stdout",
     "output_type": "stream",
     "text": [
      "Train and test data prepared\n"
     ]
    }
   ],
   "source": [
    "Y_train = np.log1p(X['visitors']).values\n",
    "nn_train = [X_train, Y_train]\n",
    "nn_test = [list(X_test[data_col].T.values)]\n",
    "print(\"Train and test data prepared\") "
   ]
  },
  {
   "cell_type": "code",
   "execution_count": null,
   "metadata": {
    "id": "-jSJZVxMEzxS"
   },
   "outputs": [],
   "source": []
  },
  {
   "cell_type": "code",
   "execution_count": 26,
   "metadata": {
    "id": "A4IzT8H6z2e7"
   },
   "outputs": [],
   "source": [
    "#***************************************Random Forest\n",
    "#XGBOOST_REGRESSOR_PARAMS = dict(\n",
    "    #learning_rate=0.2, n_estimators=13, subsample=0.8, colsample_bytree=0.8, \n",
    "   # max_depth=10, n_jobs=-1\n",
    "#)\n",
    "model2 = ensemble.RandomForestRegressor(n_estimators=13, random_state=3, max_depth=18,\n",
    "                                        min_weight_fraction_leaf=0.0002)"
   ]
  },
  {
   "cell_type": "code",
   "execution_count": 27,
   "metadata": {
    "id": "PTDy6gtP0GGP"
   },
   "outputs": [
    {
     "name": "stdout",
     "output_type": "stream",
     "text": [
      "[25 31 24 ...  2  1  6]\n",
      "Model2 trained\n",
      "RMSE RandomForestRegressor:  0.5484037352841548\n"
     ]
    }
   ],
   "source": [
    "# *********************** Training and Validation Data *************************#\n",
    "train_X = train[col]\n",
    "train_X = train_X[train_X['year'] == 2016]\n",
    "train_y = train[train['year'] == 2016]\n",
    "test_X =  train[col]\n",
    "test_X = test_X[test_X['year'] == 2017]\n",
    "test_y = train[train['year'] == 2017]\n",
    "# *********************** Training and Validation Data *************************#\n",
    "#**********************************************************\n",
    "print(train_y['visitors'].values)\n",
    "model2.fit(train_X, np.log1p(train_y['visitors'].values))\n",
    "print(\"Model2 trained\")\n",
    "preds2 = model2.predict(test_X)\n",
    "print('RMSE RandomForestRegressor: ', RMSLE(np.log1p(test_y['visitors'].values), preds2))"
   ]
  },
  {
   "cell_type": "code",
   "execution_count": 28,
   "metadata": {
    "id": "f-DsZNdVQABY"
   },
   "outputs": [],
   "source": [
    "#from google.colab import files\n",
    "#train_X.to_csv('my_submission.csv', index=False)\n",
    "#files.download('my_submission.csv')\n",
    "#print(\"Your submission was successfully saved!\")"
   ]
  },
  {
   "cell_type": "code",
   "execution_count": 29,
   "metadata": {
    "id": "3sYTbOm3k-0u"
   },
   "outputs": [],
   "source": [
    "output_trainx=(pd.DataFrame({'id': train_X['air_store_id2'], 'visitors': train_X['mean_visitors'],'genre': train_X['air_genre_name'],'year': train_X['year']}))\n",
    "output_trainy=(pd.DataFrame({'id': train_y['air_store_id'], 'visitors': train_y['visitors'],'genre': train_y['air_genre_name'],'year': train_y['year']}))\n",
    "output_testx=(pd.DataFrame({'id': test_X['air_store_id2'], 'visitors': test_X['mean_visitors'],'genre': test_X['air_genre_name'],'year': test_X['year']}))\n",
    "output_testy=(pd.DataFrame({'id': test_y['air_store_id'], 'visitors': test_y['visitors'],'genre': test_y['air_genre_name'],'year': test_y['year']}))"
   ]
  },
  {
   "cell_type": "code",
   "execution_count": 30,
   "metadata": {
    "id": "cNbKsAYRaVR4"
   },
   "outputs": [
    {
     "name": "stdout",
     "output_type": "stream",
     "text": [
      "Model2 trained\n",
      "[3.20511701 3.20511701 3.20511701 ... 1.71771996 1.71771996 1.36180756]\n",
      "RMSE RandomForestRegressor:  0.5333327717446809\n"
     ]
    }
   ],
   "source": [
    "model2.fit(output_trainx, np.log1p(output_trainy['visitors'].values))\n",
    "print(\"Model2 trained\")\n",
    "preds2 = model2.predict(output_testx)\n",
    "print(preds2)\n",
    "print('RMSE RandomForestRegressor: ', RMSLE(np.log1p(output_testy['visitors'].values), preds2))"
   ]
  },
  {
   "cell_type": "code",
   "execution_count": 31,
   "metadata": {
    "id": "GABnnQ7N6NiU"
   },
   "outputs": [],
   "source": [
    "Pkl_Filename = \"model_tree.pkl\"  \n",
    "\n",
    "with open(Pkl_Filename, 'wb') as file:  \n",
    "    pickle.dump(model2, file)"
   ]
  },
  {
   "cell_type": "code",
   "execution_count": 32,
   "metadata": {
    "id": "t-kFKdcwicGD"
   },
   "outputs": [],
   "source": [
    "#XGB MODel\n",
    "import xgboost as xgb\n",
    "from sklearn.metrics import mean_squared_error"
   ]
  },
  {
   "cell_type": "code",
   "execution_count": 33,
   "metadata": {
    "id": "TaZPfm3PfZmT"
   },
   "outputs": [
    {
     "name": "stdout",
     "output_type": "stream",
     "text": [
      "XGBRegressor(base_score=None, booster=None, colsample_bylevel=None,\n",
      "             colsample_bynode=None, colsample_bytree=None, gamma=None,\n",
      "             gpu_id=None, importance_type='gain', interaction_constraints=None,\n",
      "             learning_rate=None, max_delta_step=None, max_depth=None,\n",
      "             min_child_weight=None, missing=nan, monotone_constraints=None,\n",
      "             n_estimators=100, n_jobs=None, num_parallel_tree=None,\n",
      "             random_state=None, reg_alpha=None, reg_lambda=None,\n",
      "             scale_pos_weight=None, subsample=None, tree_method=None,\n",
      "             validate_parameters=None, verbosity=0)\n"
     ]
    }
   ],
   "source": [
    "xgbr = xgb.XGBRegressor(verbosity=0) \n",
    "print(xgbr)\n",
    "xgbr1 = xgb.XGBRegressor(verbosity=0) \n",
    "\n"
   ]
  },
  {
   "cell_type": "code",
   "execution_count": 34,
   "metadata": {
    "id": "N40dC_sUfeGP"
   },
   "outputs": [
    {
     "data": {
      "text/plain": [
       "XGBRegressor(base_score=0.5, booster='gbtree', colsample_bylevel=1,\n",
       "             colsample_bynode=1, colsample_bytree=1, gamma=0, gpu_id=-1,\n",
       "             importance_type='gain', interaction_constraints='',\n",
       "             learning_rate=0.300000012, max_delta_step=0, max_depth=6,\n",
       "             min_child_weight=1, missing=nan, monotone_constraints='()',\n",
       "             n_estimators=100, n_jobs=8, num_parallel_tree=1, random_state=0,\n",
       "             reg_alpha=0, reg_lambda=1, scale_pos_weight=1, subsample=1,\n",
       "             tree_method='exact', validate_parameters=1, verbosity=0)"
      ]
     },
     "execution_count": 34,
     "metadata": {},
     "output_type": "execute_result"
    }
   ],
   "source": [
    "xgbr.fit(train_X, np.log1p(train_y['visitors'].values))\n",
    "xgbr1.fit(output_trainx, np.log1p(output_trainy['visitors'].values))"
   ]
  },
  {
   "cell_type": "code",
   "execution_count": 35,
   "metadata": {
    "id": "HRCcQrsdfjob"
   },
   "outputs": [
    {
     "name": "stdout",
     "output_type": "stream",
     "text": [
      "Training score:  0.6544234531871935\n"
     ]
    }
   ],
   "source": [
    "score = xgbr.score(train_X, np.log1p(train_y['visitors'].values)  )\n",
    "print(\"Training score: \", score)"
   ]
  },
  {
   "cell_type": "code",
   "execution_count": 36,
   "metadata": {
    "id": "m1qTspIU0op2"
   },
   "outputs": [
    {
     "name": "stdout",
     "output_type": "stream",
     "text": [
      "MSE: 0.43\n",
      "RMSE: 0.66\n",
      "RMSE XGB:  0.6590761152837324\n"
     ]
    }
   ],
   "source": [
    "ypred = xgbr.predict(test_X)\n",
    "fastapixgbr=xgbr1.predict(output_testx)\n",
    "mse = mean_squared_error(np.log1p(test_y['visitors'].values), ypred)\n",
    "print(\"MSE: %.2f\" % mse)\n",
    "MSE: 3.35\n",
    "print(\"RMSE: %.2f\" % (mse**(1/2.0)))\n",
    "RMSE: 1.83\n",
    "\n",
    "print('RMSE XGB: ', RMSLE(np.log1p(test_y['visitors'].values), ypred))"
   ]
  },
  {
   "cell_type": "code",
   "execution_count": 37,
   "metadata": {
    "id": "3Dz88xWyymtg"
   },
   "outputs": [],
   "source": [
    "Pkl_Filename1 = \"model_xgbr.pkl\"  \n",
    "\n",
    "with open(Pkl_Filename1, 'wb') as file:  \n",
    "    pickle.dump(xgbr1, file)"
   ]
  },
  {
   "cell_type": "code",
   "execution_count": 38,
   "metadata": {
    "id": "M_e7PSY_04XT"
   },
   "outputs": [],
   "source": [
    "output_list = []\n",
    "\n",
    "output_list.append(pd.DataFrame({'id': test_y['air_store_id'], 'visitors': test_y['visitors']}))"
   ]
  },
  {
   "cell_type": "code",
   "execution_count": 39,
   "metadata": {
    "id": "dOxInI2e3CZk"
   },
   "outputs": [
    {
     "name": "stdout",
     "output_type": "stream",
     "text": [
      "                          id  visitors\n",
      "49      air_ba937bf13d40fb24        12\n",
      "50      air_ba937bf13d40fb24        24\n",
      "51      air_ba937bf13d40fb24        25\n",
      "52      air_ba937bf13d40fb24        10\n",
      "53      air_ba937bf13d40fb24        22\n",
      "...                      ...       ...\n",
      "250461  air_24e8414b9b07decb         7\n",
      "250462  air_24e8414b9b07decb         8\n",
      "250463  air_24e8414b9b07decb         6\n",
      "250464  air_24e8414b9b07decb         7\n",
      "250467  air_24e8414b9b07decb         4\n",
      "\n",
      "[77286 rows x 2 columns]\n"
     ]
    }
   ],
   "source": [
    "output = pd.concat(output_list).sort_index()\n",
    "print(output)"
   ]
  },
  {
   "cell_type": "markdown",
   "metadata": {
    "id": "0nmubPx6GsdY"
   },
   "source": [
    "**Quantization**"
   ]
  },
  {
   "cell_type": "code",
   "execution_count": 40,
   "metadata": {
    "id": "6HwLzW8JrhUc"
   },
   "outputs": [],
   "source": [
    "from keras.models import Sequential\n",
    "from keras.layers import Dense, LSTM\n",
    "from sklearn.preprocessing import LabelEncoder\n",
    "from sklearn.preprocessing import MinMaxScaler\n",
    "from sklearn.metrics import mean_squared_error\n",
    "train = train.sort_values('visit_date')\n",
    "values = np.log1p(train['visitors'].values).reshape(-1,1)\n",
    "values = values.astype('float32')\n",
    "\n",
    "scaler = MinMaxScaler(feature_range=(0, 1))\n",
    "scaled = scaler.fit_transform(values)"
   ]
  },
  {
   "cell_type": "code",
   "execution_count": 41,
   "metadata": {
    "id": "UomZe9gzFXne"
   },
   "outputs": [
    {
     "name": "stdout",
     "output_type": "stream",
     "text": [
      "175327 75141\n"
     ]
    }
   ],
   "source": [
    "train_size = int(len(scaled) * 0.7)\n",
    "test_size = len(scaled) - train_size\n",
    "\n",
    "V_train, V_test = scaled[0:train_size,:], scaled[train_size:len(scaled),:]\n",
    "print(len(V_train), len(V_test))"
   ]
  },
  {
   "cell_type": "code",
   "execution_count": 42,
   "metadata": {
    "id": "j6yUZfCkFqcb"
   },
   "outputs": [],
   "source": [
    "def create_dataset(dataset, look_back=1):\n",
    "    dataX, dataY = [], []\n",
    "    for i in range(len(dataset) - look_back):\n",
    "        a = dataset[i:(i + look_back), 0]\n",
    "        dataX.append(a)\n",
    "        dataY.append(dataset[i + look_back, 0])\n",
    "    print(len(dataY))\n",
    "    return np.array(dataX), np.array(dataY)"
   ]
  },
  {
   "cell_type": "code",
   "execution_count": 43,
   "metadata": {
    "id": "_AKYKYooFzPH"
   },
   "outputs": [
    {
     "name": "stdout",
     "output_type": "stream",
     "text": [
      "175326\n",
      "75140\n"
     ]
    }
   ],
   "source": [
    "look_back = 1\n",
    "trainX, trainY = create_dataset(V_train, look_back)\n",
    "testX, testY = create_dataset(V_test, look_back)"
   ]
  },
  {
   "cell_type": "code",
   "execution_count": 44,
   "metadata": {
    "id": "bN5yWLn4F2BY"
   },
   "outputs": [],
   "source": [
    "trainX = np.reshape(trainX, (trainX.shape[0], 1, trainX.shape[1]))\n",
    "testX = np.reshape(testX, (testX.shape[0], 1, testX.shape[1]))"
   ]
  },
  {
   "cell_type": "code",
   "execution_count": 45,
   "metadata": {
    "id": "-Hw6_Sa9GDcH"
   },
   "outputs": [],
   "source": [
    "import torch\n",
    "import torch.nn as nn\n",
    "import torch.nn.functional as F\n",
    "class LSTMModel(nn.Module):\n",
    "    \"\"\"Container module with an encoder, a recurrent module, and a decoder.\"\"\"\n",
    "\n",
    "    def __init__(self, ntoken, ninp, nhid, nlayers, dropout=0.5):\n",
    "        super(LSTMModel, self).__init__()\n",
    "        self.drop = nn.Dropout(dropout)\n",
    "        self.encoder = nn.Embedding(ntoken, ninp)\n",
    "        self.rnn = nn.LSTM(ninp, nhid, nlayers, dropout=dropout)\n",
    "        self.decoder = nn.Linear(nhid, ntoken)\n",
    "\n",
    "        self.init_weights()\n",
    "\n",
    "        self.nhid = nhid\n",
    "        self.nlayers = nlayers\n",
    "\n",
    "    def init_weights(self):\n",
    "        initrange = 0.1\n",
    "        self.encoder.weight.data.uniform_(-initrange, initrange)\n",
    "        self.decoder.bias.data.zero_()\n",
    "        self.decoder.weight.data.uniform_(-initrange, initrange)\n",
    "\n",
    "    def forward(self, input, hidden):\n",
    "        emb = self.drop(self.encoder(input))\n",
    "        output, hidden = self.rnn(emb, hidden)\n",
    "        output = self.drop(output)\n",
    "        decoded = self.decoder(output)\n",
    "        return decoded, hidden\n",
    "\n",
    "    def init_hidden(self, bsz):\n",
    "        weight = next(self.parameters())\n",
    "        return (weight.new_zeros(self.nlayers, bsz, self.nhid),\n",
    "                weight.new_zeros(self.nlayers, bsz, self.nhid))"
   ]
  },
  {
   "cell_type": "code",
   "execution_count": 46,
   "metadata": {
    "id": "hy2dTkz9GEi4"
   },
   "outputs": [
    {
     "name": "stdout",
     "output_type": "stream",
     "text": [
      "LSTMModel(\n",
      "  (drop): Dropout(p=0.5, inplace=False)\n",
      "  (encoder): Embedding(175326, 512)\n",
      "  (rnn): LSTM(512, 256, num_layers=5, dropout=0.5)\n",
      "  (decoder): Linear(in_features=256, out_features=175326, bias=True)\n",
      ")\n"
     ]
    }
   ],
   "source": [
    "\n",
    "\n",
    "model = LSTMModel(\n",
    "  len(trainX),\n",
    "    ninp = 512,\n",
    "    nhid = 256,\n",
    "    nlayers = 5,\n",
    ")\n",
    "model.eval()\n",
    "print(model)"
   ]
  },
  {
   "cell_type": "code",
   "execution_count": 47,
   "metadata": {
    "id": "1xYLd1iMGgV1"
   },
   "outputs": [
    {
     "name": "stdout",
     "output_type": "stream",
     "text": [
      "LSTMModel(\n",
      "  (drop): Dropout(p=0.5, inplace=False)\n",
      "  (encoder): Embedding(175326, 512)\n",
      "  (rnn): DynamicQuantizedLSTM(512, 256, num_layers=5, dropout=0.5)\n",
      "  (decoder): DynamicQuantizedLinear(in_features=256, out_features=175326, dtype=torch.qint8, qscheme=torch.per_tensor_affine)\n",
      ")\n"
     ]
    }
   ],
   "source": [
    "import torch.quantization\n",
    "\n",
    "quantized_model = torch.quantization.quantize_dynamic(\n",
    "    model, {nn.LSTM, nn.Linear}, dtype=torch.qint8\n",
    ")\n",
    "print(quantized_model)"
   ]
  },
  {
   "cell_type": "code",
   "execution_count": 48,
   "metadata": {
    "id": "zHh-e2jbGnMC"
   },
   "outputs": [
    {
     "name": "stdout",
     "output_type": "stream",
     "text": [
      "Size (MB): 550.885415\n",
      "Size (MB): 407.586743\n"
     ]
    }
   ],
   "source": [
    "import os\n",
    "def print_size_of_model(model):\n",
    "    torch.save(model.state_dict(), \"temp.p\")\n",
    "    print('Size (MB):', os.path.getsize(\"temp.p\")/1e6)\n",
    "    os.remove('temp.p')\n",
    "\n",
    "print_size_of_model(model)\n",
    "print_size_of_model(quantized_model)"
   ]
  },
  {
   "cell_type": "markdown",
   "metadata": {
    "id": "r_iJotdSHuHX"
   },
   "source": [
    "**Error Analysis**\n"
   ]
  },
  {
   "cell_type": "code",
   "execution_count": 49,
   "metadata": {
    "id": "Sx8n-LaRHz5u"
   },
   "outputs": [
    {
     "name": "stdout",
     "output_type": "stream",
     "text": [
      "Mean squared error:  10732386.105504232\n",
      "Mean Absolute error:  2879.9439484512072\n"
     ]
    }
   ],
   "source": [
    "from sklearn.metrics import mean_squared_error, mean_absolute_error\n",
    "from sklearn.preprocessing import LabelEncoder\n",
    "le = LabelEncoder()\n",
    "y_test_encodederror= le.fit_transform(np.log1p(test_y['visitors'].values))\n",
    "y_pred_encodederror = le.fit_transform(preds2)\n",
    "\n",
    "print(\"Mean squared error: \", mean_squared_error(y_test_encodederror, y_pred_encodederror))\n",
    "print(\"Mean Absolute error: \", mean_absolute_error(y_test_encodederror, y_pred_encodederror))\n"
   ]
  }
 ],
 "metadata": {
  "colab": {
   "collapsed_sections": [],
   "name": "Final Code.ipynb",
   "provenance": []
  },
  "kernelspec": {
   "display_name": "Python 3",
   "language": "python",
   "name": "python3"
  },
  "language_info": {
   "codemirror_mode": {
    "name": "ipython",
    "version": 3
   },
   "file_extension": ".py",
   "mimetype": "text/x-python",
   "name": "python",
   "nbconvert_exporter": "python",
   "pygments_lexer": "ipython3",
   "version": "3.9.4"
  }
 },
 "nbformat": 4,
 "nbformat_minor": 1
}
